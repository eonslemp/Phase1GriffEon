{
 "cells": [
  {
   "cell_type": "markdown",
   "metadata": {},
   "source": [
    "# Exploratory Data Cleaning - Griff"
   ]
  },
  {
   "cell_type": "markdown",
   "metadata": {},
   "source": [
    "### In the cells below, IMDB, TMDB, and 'The Numbers' Datasets are imported into Pandas DataFrames for cleaning.  The following datasets are used:\n",
    "- imdb name basics\n",
    "- imdb title basics\n",
    "- imdb title crew\n",
    "- imdb title principals\n",
    "- imdb title ratings\n",
    "- tmdb movies\n",
    "- tn movie budgets"
   ]
  },
  {
   "cell_type": "markdown",
   "metadata": {},
   "source": [
    "#### Pandas and Numpy are used for cleaning and analysis.  Matplotlib is for visualization"
   ]
  },
  {
   "cell_type": "code",
   "execution_count": null,
   "metadata": {},
   "outputs": [],
   "source": [
    "import pandas as pd\n",
    "import numpy as np\n",
    "import matplotlib.pyplot as plt\n",
    "%matplotlib inline"
   ]
  },
  {
   "cell_type": "markdown",
   "metadata": {},
   "source": [
    "#### imdb.name.basics is imported and the birth_year, death_year, primary_profession, and known_for_titles columns are dropped because they will not be a part of this analysis."
   ]
  },
  {
   "cell_type": "code",
   "execution_count": null,
   "metadata": {},
   "outputs": [],
   "source": [
    "imdb_name_basics = pd.read_csv('./data/imdb.name.basics.csv')\n",
    "imdb_name_basics.drop(columns = {'birth_year', \n",
    "                                 'death_year',\n",
    "                                 'primary_profession',\n",
    "                                 'known_for_titles'},inplace=True)\n",
    "imdb_name_basics.head()"
   ]
  },
  {
   "cell_type": "markdown",
   "metadata": {},
   "source": [
    "#### imdb.title.basics is imported and the columns original_title and start_year are dropped.  The variables we will potentially be examining are runtime_minutes and genres.  Rows with missing values for genres will be dropped because they can't be replaced.  Missing values for runtime_minutes will be replaced with the median value. Median = 87 minutes, Mean = 86 minutes."
   ]
  },
  {
   "cell_type": "code",
   "execution_count": null,
   "metadata": {},
   "outputs": [],
   "source": [
    "imdb_title_basics = pd.read_csv('./data/imdb.title.basics.csv')\n",
    "imdb_title_basics.drop(columns = {'original_title','start_year'}, inplace = True)\n",
    "imdb_title_basics = imdb_title_basics.loc[imdb_title_basics.genres.isna() == False]\n",
    "imdb_title_basics.runtime_minutes.fillna(imdb_title_basics.runtime_minutes.median(), inplace = True)\n",
    "# imdb_title_basics.genres = imdb_title_basics.genres.apply(lambda x: x.split(','))\n",
    "imdb_title_basics.head()"
   ]
  },
  {
   "cell_type": "markdown",
   "metadata": {},
   "source": [
    "#### From the imdb.title.crew file, the writers column is dropped.  The directors column will be explored."
   ]
  },
  {
   "cell_type": "code",
   "execution_count": null,
   "metadata": {},
   "outputs": [],
   "source": [
    "imdb_title_crew = pd.read_csv('./data/imdb.title.crew.csv')\n",
    "imdb_title_crew.drop(columns = 'writers', inplace = True)\n",
    "imdb_title_crew = imdb_title_crew.dropna()\n",
    "# imdb_title_crew.directors = imdb_title_crew.directors.apply(lambda x: x.split(','))\n",
    "imdb_title_crew.head()"
   ]
  },
  {
   "cell_type": "markdown",
   "metadata": {},
   "source": [
    "#### The imdb.title.principals file has role data for movies.  The job and characters columns are almost entirely incomplete and are dropped."
   ]
  },
  {
   "cell_type": "code",
   "execution_count": null,
   "metadata": {},
   "outputs": [],
   "source": [
    "imdb_title_principals = pd.read_csv('./data/imdb.title.principals.csv')\n",
    "imdb_title_principals.drop(columns = {'job', 'characters'}, inplace = True)\n",
    "imdb_title_principals.head()"
   ]
  },
  {
   "cell_type": "markdown",
   "metadata": {},
   "source": [
    "#### imdb.title.ratings has sitewide rating data.  No cleaning is needed as all entries are valid"
   ]
  },
  {
   "cell_type": "code",
   "execution_count": null,
   "metadata": {},
   "outputs": [],
   "source": [
    "imdb_title_ratings = pd.read_csv('./data/imdb.title.ratings.csv')\n",
    "imdb_title_ratings = imdb_title_ratings.loc[imdb_title_ratings.numvotes >5]\n",
    "imdb_title_ratings.head()"
   ]
  },
  {
   "cell_type": "code",
   "execution_count": null,
   "metadata": {},
   "outputs": [],
   "source": [
    "tmdb_movies = pd.read_csv('./data/tmdb.movies.csv')\n",
    "tmdb_movies = tmdb_movies.drop(columns = {'original_language', 'release_date', 'original_title'}).set_index('Unnamed: 0')"
   ]
  },
  {
   "cell_type": "code",
   "execution_count": null,
   "metadata": {},
   "outputs": [],
   "source": [
    "def clean_columns(series):\n",
    "    return series.apply(lambda x: float(x.replace('$', '').replace(',', '')))"
   ]
  },
  {
   "cell_type": "code",
   "execution_count": null,
   "metadata": {},
   "outputs": [],
   "source": [
    "tn_movie_budgets = pd.read_csv('./data/tn.movie_budgets.csv')\n",
    "tn_movie_budgets = tn_movie_budgets.drop(columns={'release_date','id'})\n",
    "tn_movie_budgets.production_budget = clean_columns(tn_movie_budgets.production_budget)\n",
    "tn_movie_budgets.domestic_gross = clean_columns(tn_movie_budgets.domestic_gross)\n",
    "tn_movie_budgets.worldwide_gross = clean_columns(tn_movie_budgets.worldwide_gross)\n",
    "tn_movie_budgets.head()"
   ]
  },
  {
   "cell_type": "code",
   "execution_count": null,
   "metadata": {},
   "outputs": [],
   "source": [
    "tn_movie_budgets['budget_gross_ratio'] = tn_movie_budgets.worldwide_gross / tn_movie_budgets.production_budget\n",
    "tn_movie_budgets = tn_movie_budgets.loc[tn_movie_budgets.domestic_gross > 0]\n",
    "tn_movie_budgets.head()"
   ]
  },
  {
   "cell_type": "markdown",
   "metadata": {},
   "source": [
    "# Exploratory Data Analysis"
   ]
  },
  {
   "cell_type": "code",
   "execution_count": null,
   "metadata": {},
   "outputs": [],
   "source": [
    "imdb_name_basics.head()\n",
    "def get_name(name):\n",
    "    return imdb_name_basics.loc[imdb_name_basics.nconst == name]\n"
   ]
  },
  {
   "cell_type": "code",
   "execution_count": null,
   "metadata": {},
   "outputs": [],
   "source": [
    "imdb_title_basics.head()"
   ]
  },
  {
   "cell_type": "code",
   "execution_count": null,
   "metadata": {
    "scrolled": true
   },
   "outputs": [],
   "source": [
    "imdb_title_ratings.head()"
   ]
  },
  {
   "cell_type": "code",
   "execution_count": null,
   "metadata": {},
   "outputs": [],
   "source": [
    "imdb_title_crew.head()"
   ]
  },
  {
   "cell_type": "code",
   "execution_count": null,
   "metadata": {},
   "outputs": [],
   "source": [
    "imdb_title_principals.head()"
   ]
  },
  {
   "cell_type": "code",
   "execution_count": null,
   "metadata": {
    "scrolled": false
   },
   "outputs": [],
   "source": [
    "tmdb_movies.head()"
   ]
  },
  {
   "cell_type": "code",
   "execution_count": null,
   "metadata": {},
   "outputs": [],
   "source": [
    "merge1 = tn_movie_budgets.rename(columns={'movie': 'primary_title'}).merge(imdb_title_basics, on= 'primary_title')\n",
    "dat = merge1.groupby('genres').budget_gross_ratio.mean().sort_values(ascending = False)\n",
    "dat = dat.loc[dat.values >25]\n",
    "fig, ax = plt.subplots(figsize = (20,10))\n",
    "ax.bar(dat.index, height = dat)\n",
    "dat.loc[dat.values >20]"
   ]
  },
  {
   "cell_type": "code",
   "execution_count": null,
   "metadata": {},
   "outputs": [],
   "source": [
    "imdb_title_basics.head()"
   ]
  },
  {
   "cell_type": "code",
   "execution_count": null,
   "metadata": {},
   "outputs": [],
   "source": []
  }
 ],
 "metadata": {
  "kernelspec": {
   "display_name": "learn-env",
   "language": "python",
   "name": "learn-env"
  },
  "language_info": {
   "codemirror_mode": {
    "name": "ipython",
    "version": 3
   },
   "file_extension": ".py",
   "mimetype": "text/x-python",
   "name": "python",
   "nbconvert_exporter": "python",
   "pygments_lexer": "ipython3",
   "version": "3.6.9"
  }
 },
 "nbformat": 4,
 "nbformat_minor": 4
}
