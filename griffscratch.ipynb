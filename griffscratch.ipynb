{
 "cells": [
  {
   "cell_type": "markdown",
   "metadata": {},
   "source": [
    "# Exploratory Data Cleaning - Griff"
   ]
  },
  {
   "cell_type": "markdown",
   "metadata": {},
   "source": [
    "## We want to answer the question: What movie genre should our studio invest in to make the most profit.\n",
    "\n",
    "\n",
    "### In the cells below, IMDB, TMDB, and 'The Numbers' Datasets are imported into Pandas DataFrames for cleaning.  The following datasets are used:\n",
    "- imdb name basics\n",
    "- imdb title basics\n",
    "- imdb title crew\n",
    "- imdb title principals\n",
    "- imdb title ratings\n",
    "- tmdb movies\n",
    "- tn movie budgets"
   ]
  },
  {
   "cell_type": "markdown",
   "metadata": {},
   "source": [
    "### Pandas and Numpy are used for cleaning and analysis.  Matplotlib is for visualization"
   ]
  },
  {
   "cell_type": "code",
   "execution_count": null,
   "metadata": {},
   "outputs": [],
   "source": [
    "import pandas as pd\n",
    "import numpy as np\n",
    "import matplotlib.pyplot as plt\n",
    "%matplotlib inline"
   ]
  },
  {
   "cell_type": "markdown",
   "metadata": {},
   "source": [
    "### imdb.name.basics is imported and the birth_year, death_year, primary_profession, and known_for_titles columns are dropped because they will not be a part of this analysis."
   ]
  },
  {
   "cell_type": "code",
   "execution_count": null,
   "metadata": {},
   "outputs": [],
   "source": [
    "imdb_name_basics = pd.read_csv('./data/imdb.name.basics.csv')\n",
    "imdb_name_basics.drop(columns = {'birth_year', \n",
    "                                 'death_year',\n",
    "                                 'primary_profession',\n",
    "                                 'known_for_titles'},inplace=True)\n",
    "imdb_name_basics.head()"
   ]
  },
  {
   "cell_type": "markdown",
   "metadata": {},
   "source": [
    "### imdb.title.basics is imported and the column original_title is dropped because only the primary_title will be used.  The variable we will be examining is genres.  Rows with missing values for genres will be dropped because they can't be replaced.  Runtime_minutes might be examined in the future. Missing values for runtime_minutes will be replaced with the median value. Median = 87 minutes, Mean = 86 minutes."
   ]
  },
  {
   "cell_type": "code",
   "execution_count": null,
   "metadata": {},
   "outputs": [],
   "source": [
    "imdb_title_basics = pd.read_csv('./data/imdb.title.basics.csv')\n",
    "imdb_title_basics.drop(columns = {'original_title'}, inplace = True)\n",
    "imdb_title_basics = imdb_title_basics.loc[imdb_title_basics.genres.isna() == False]\n",
    "imdb_title_basics.runtime_minutes.fillna(imdb_title_basics.runtime_minutes.median(), inplace = True)\n",
    "# imdb_title_basics.genres = imdb_title_basics.genres.apply(lambda x: x.split(','))\n",
    "imdb_title_basics.head()"
   ]
  },
  {
   "cell_type": "markdown",
   "metadata": {},
   "source": [
    "#### From the imdb.title.crew file, the writers column is dropped.  The directors column might be used in the future?"
   ]
  },
  {
   "cell_type": "code",
   "execution_count": null,
   "metadata": {},
   "outputs": [],
   "source": [
    "imdb_title_crew = pd.read_csv('./data/imdb.title.crew.csv')\n",
    "imdb_title_crew.drop(columns = 'writers', inplace = True)\n",
    "imdb_title_crew = imdb_title_crew.dropna()\n",
    "# imdb_title_crew.directors = imdb_title_crew.directors.apply(lambda x: x.split(','))\n",
    "imdb_title_crew.head()"
   ]
  },
  {
   "cell_type": "markdown",
   "metadata": {},
   "source": [
    "#### The imdb.title.principals file has role data for movies.  The job and characters columns are almost entirely incomplete and are dropped.  This data might be used later?"
   ]
  },
  {
   "cell_type": "code",
   "execution_count": null,
   "metadata": {},
   "outputs": [],
   "source": [
    "imdb_title_principals = pd.read_csv('./data/imdb.title.principals.csv')\n",
    "imdb_title_principals.drop(columns = {'job', 'characters'}, inplace = True)\n",
    "imdb_title_principals.head()"
   ]
  },
  {
   "cell_type": "markdown",
   "metadata": {},
   "source": [
    "#### imdb.title.ratings has rating data.  We might use this at some point??"
   ]
  },
  {
   "cell_type": "code",
   "execution_count": null,
   "metadata": {},
   "outputs": [],
   "source": [
    "imdb_title_ratings = pd.read_csv('./data/imdb.title.ratings.csv')\n",
    "imdb_title_ratings = imdb_title_ratings.loc[imdb_title_ratings.numvotes >5]\n",
    "imdb_title_ratings.head()"
   ]
  },
  {
   "cell_type": "markdown",
   "metadata": {},
   "source": [
    "#### The tmdb.movies file has info about genre, original lanuage, original title, popularity, release date, and voting.  "
   ]
  },
  {
   "cell_type": "code",
   "execution_count": null,
   "metadata": {},
   "outputs": [],
   "source": [
    "tmdb_movies = pd.read_csv('./data/tmdb.movies.csv')\n",
    "tmdb_movies.head()\n",
    "# tmdb_movies = tmdb_movies.drop(columns = {'original_language', 'release_date'   , 'original_title'}).set_index('Unnamed: 0')"
   ]
  },
  {
   "cell_type": "markdown",
   "metadata": {},
   "source": [
    "### This function removes the dollar sign and commas from a string, and turns it into a number"
   ]
  },
  {
   "cell_type": "code",
   "execution_count": null,
   "metadata": {},
   "outputs": [],
   "source": [
    "def clean_columns(series):\n",
    "    return series.apply(lambda x: float(x.replace('$', '').replace(',', '')))"
   ]
  },
  {
   "cell_type": "markdown",
   "metadata": {},
   "source": [
    "### tn.movie_budgets contains financial data that will be used in the comparison of genres.  The redundant ID column is dropped, and clean_columns() function is used to format the columns with money elements."
   ]
  },
  {
   "cell_type": "code",
   "execution_count": null,
   "metadata": {},
   "outputs": [],
   "source": [
    "tn_movie_budgets = pd.read_csv('./data/tn.movie_budgets.csv')\n",
    "tn_movie_budgets = tn_movie_budgets.drop(columns={'id'})\n",
    "tn_movie_budgets.production_budget = clean_columns(tn_movie_budgets.production_budget)\n",
    "tn_movie_budgets.domestic_gross = clean_columns(tn_movie_budgets.domestic_gross)\n",
    "tn_movie_budgets.worldwide_gross = clean_columns(tn_movie_budgets.worldwide_gross)\n",
    "tn_movie_budgets.release_date"
   ]
  },
  {
   "cell_type": "markdown",
   "metadata": {},
   "source": [
    "### A new column is added, budget_gross_ratio, that is the ratio of worldwide_gross to production_budget.\n",
    "#### Values <1 indicate the movie grossed less than the budget."
   ]
  },
  {
   "cell_type": "code",
   "execution_count": null,
   "metadata": {},
   "outputs": [],
   "source": [
    "tn_movie_budgets['budget_gross_ratio'] = tn_movie_budgets.worldwide_gross / tn_movie_budgets.production_budget\n",
    "tn_movie_budgets = tn_movie_budgets.loc[tn_movie_budgets.domestic_gross > 0]\n",
    "tn_movie_budgets.head()"
   ]
  },
  {
   "cell_type": "markdown",
   "metadata": {},
   "source": [
    "# Exploratory Data Analysis"
   ]
  },
  {
   "cell_type": "markdown",
   "metadata": {},
   "source": [
    "### Below, the heads of each dataset are shown for viewing pleasure, and to help associate the sets with each other.  The get_name function takes a 'nconst' unique identifier and returns the name associated with that id."
   ]
  },
  {
   "cell_type": "code",
   "execution_count": null,
   "metadata": {},
   "outputs": [],
   "source": [
    "def get_name(name):\n",
    "    return imdb_name_basics.loc[imdb_name_basics.nconst == name]"
   ]
  },
  {
   "cell_type": "code",
   "execution_count": null,
   "metadata": {},
   "outputs": [],
   "source": [
    "imdb_name_basics.head()"
   ]
  },
  {
   "cell_type": "code",
   "execution_count": null,
   "metadata": {},
   "outputs": [],
   "source": [
    "imdb_title_basics.head()"
   ]
  },
  {
   "cell_type": "code",
   "execution_count": null,
   "metadata": {
    "scrolled": true
   },
   "outputs": [],
   "source": [
    "imdb_title_ratings.head()"
   ]
  },
  {
   "cell_type": "code",
   "execution_count": null,
   "metadata": {},
   "outputs": [],
   "source": [
    "imdb_title_crew.head()"
   ]
  },
  {
   "cell_type": "code",
   "execution_count": null,
   "metadata": {},
   "outputs": [],
   "source": [
    "imdb_title_principals.head()"
   ]
  },
  {
   "cell_type": "code",
   "execution_count": null,
   "metadata": {
    "scrolled": false
   },
   "outputs": [],
   "source": [
    "tmdb_movies.head()"
   ]
  },
  {
   "cell_type": "markdown",
   "metadata": {},
   "source": [
    "# The tn_movie_budgets set is merged with the imdb_title_basics set on the title column.  From this table we can select subsets based on date and genre."
   ]
  },
  {
   "cell_type": "code",
   "execution_count": null,
   "metadata": {
    "scrolled": true
   },
   "outputs": [],
   "source": [
    "merge1 = tn_movie_budgets.rename(\n",
    "    columns={'movie': 'primary_title'}).merge(imdb_title_basics, on= 'primary_title')\n",
    "merge1.head()"
   ]
  },
  {
   "cell_type": "markdown",
   "metadata": {},
   "source": [
    "### The unique occurances of genres is counted on indices.  Only genres that appear frequently are being used, so that rare instances of obscure genres do not significantly skew the data."
   ]
  },
  {
   "cell_type": "code",
   "execution_count": null,
   "metadata": {
    "scrolled": true
   },
   "outputs": [],
   "source": [
    "indices = merge1.genres.value_counts()\n",
    "indices.loc[indices>40] #genres that occur in movies over 40 times"
   ]
  },
  {
   "cell_type": "markdown",
   "metadata": {},
   "source": [
    "# The budget gross ratio mean is calculated for the 15 most common genres"
   ]
  },
  {
   "cell_type": "code",
   "execution_count": null,
   "metadata": {
    "scrolled": true
   },
   "outputs": [],
   "source": [
    "import seaborn as sns\n",
    "sns.set_style('darkgrid')\n",
    "\n",
    "bgrmean = merge1.groupby('genres').budget_gross_ratio.mean()\n",
    "indices = merge1.genres.value_counts()[:15].index\n",
    "\n",
    "mean_of_top_genres = bgrmean[indices]\n",
    "fig, ax = plt.subplots(figsize = (25,10))\n",
    "ax.set_title('Mean budget to gross ratio of most frequent movie genres')\n",
    "ax.set_ylabel('Mean of budget to gross ratio')\n",
    "ax.set_xlabel('Genre')\n",
    "ax.bar(indices, mean_of_top_genres);"
   ]
  },
  {
   "cell_type": "markdown",
   "metadata": {},
   "source": [
    "# Median budget to gross ratio"
   ]
  },
  {
   "cell_type": "code",
   "execution_count": null,
   "metadata": {
    "scrolled": false
   },
   "outputs": [],
   "source": [
    "bgrmedian = merge1.groupby('genres').budget_gross_ratio.median()\n",
    "indices = merge1.genres.value_counts()[:15].index\n",
    "\n",
    "median_of_top_genres = bgrmedian[indices]\n",
    "fig, ax = plt.subplots(figsize = (25,10))\n",
    "ax.set_title('Median budget to gross ratio of most frequent movie genres')\n",
    "ax.set_ylabel('Median of budget to gross ratio')\n",
    "ax.set_xlabel('Genre')\n",
    "ax.bar(indices, median_of_top_genres);"
   ]
  },
  {
   "cell_type": "code",
   "execution_count": null,
   "metadata": {
    "scrolled": true
   },
   "outputs": [],
   "source": [
    "dat = merge1.groupby('genres').worldwide_gross.mean()\n",
    "indices = merge1.genres.value_counts()[:15].index\n",
    "mean_of_top_genres = dat[indices]\n",
    "fig, ax = plt.subplots(figsize = (25,10))\n",
    "ax.set_title('Mean worldwide gross of most frequent movie genres')\n",
    "ax.set_ylabel('Mean of worldwide gross')\n",
    "ax.set_xlabel('Genre')\n",
    "ax.bar(indices, mean_of_top_genres);"
   ]
  },
  {
   "cell_type": "code",
   "execution_count": null,
   "metadata": {
    "scrolled": true
   },
   "outputs": [],
   "source": [
    "imdb_title_basics.head()"
   ]
  }
 ],
 "metadata": {
  "kernelspec": {
   "display_name": "learn-env",
   "language": "python",
   "name": "learn-env"
  },
  "language_info": {
   "codemirror_mode": {
    "name": "ipython",
    "version": 3
   },
   "file_extension": ".py",
   "mimetype": "text/x-python",
   "name": "python",
   "nbconvert_exporter": "python",
   "pygments_lexer": "ipython3",
   "version": "3.6.9"
  }
 },
 "nbformat": 4,
 "nbformat_minor": 4
}
