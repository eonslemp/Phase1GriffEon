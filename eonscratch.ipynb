{
 "cells": [
  {
   "cell_type": "code",
   "execution_count": null,
   "metadata": {},
   "outputs": [],
   "source": [
    "'hello world'"
   ]
  },
  {
   "cell_type": "code",
   "execution_count": null,
   "metadata": {},
   "outputs": [],
   "source": []
  },
  {
   "cell_type": "code",
   "execution_count": null,
   "metadata": {},
   "outputs": [],
   "source": [
    "import pandas as pd\n",
    "\n",
    "import numpy as np"
   ]
  },
  {
   "cell_type": "code",
   "execution_count": null,
   "metadata": {},
   "outputs": [],
   "source": [
    "df_movies = pd.read_csv('data/tmdb.movies.csv')"
   ]
  },
  {
   "cell_type": "code",
   "execution_count": null,
   "metadata": {},
   "outputs": [],
   "source": [
    "df_movies.head()"
   ]
  },
  {
   "cell_type": "code",
   "execution_count": null,
   "metadata": {},
   "outputs": [],
   "source": [
    "df_movies.drop(columns = {'Unnamed: 0', 'id', 'original_language', 'original_title'}, inplace = True)"
   ]
  },
  {
   "cell_type": "code",
   "execution_count": null,
   "metadata": {},
   "outputs": [],
   "source": [
    "df_movies.head()"
   ]
  },
  {
   "cell_type": "code",
   "execution_count": null,
   "metadata": {},
   "outputs": [],
   "source": [
    "df_movies = df_movies.set_index('title')"
   ]
  },
  {
   "cell_type": "code",
   "execution_count": null,
   "metadata": {},
   "outputs": [],
   "source": [
    "df_movies['release_date'] = pd.to_datetime(df_movies['release_date'])"
   ]
  },
  {
   "cell_type": "code",
   "execution_count": null,
   "metadata": {},
   "outputs": [],
   "source": [
    "df_movies.sort_values(by = 'release_date', ascending = False)"
   ]
  },
  {
   "cell_type": "code",
   "execution_count": null,
   "metadata": {},
   "outputs": [],
   "source": [
    "df_movies.head()\n",
    "#df_movies.shape"
   ]
  },
  {
   "cell_type": "code",
   "execution_count": null,
   "metadata": {},
   "outputs": [],
   "source": [
    "df_budgets = pd.read_csv('data/tn.movie_budgets.csv')"
   ]
  },
  {
   "cell_type": "code",
   "execution_count": null,
   "metadata": {},
   "outputs": [],
   "source": []
  },
  {
   "cell_type": "code",
   "execution_count": null,
   "metadata": {},
   "outputs": [],
   "source": [
    "df_budgets.head()\n",
    "df_budgets['release_date'] = pd.to_datetime(df_budgets['release_date'])"
   ]
  },
  {
   "cell_type": "code",
   "execution_count": null,
   "metadata": {},
   "outputs": [],
   "source": [
    "df_budgets.head()"
   ]
  },
  {
   "cell_type": "code",
   "execution_count": null,
   "metadata": {},
   "outputs": [],
   "source": [
    "# df_budgets['release_date'] = pd.to_datetime(df_budgets['release_date'])\n",
    "\n",
    "df_budgets = df_budgets.rename(columns = {'production_budget':'budget'})\n",
    "df_budgets = df_budgets.rename(columns = {'worldwide_gross':'wwgross'})\n",
    "\n",
    "# df_budgets['budget'] = df_budgets['budget'].str.replace(',', '')\n",
    "# df_budgets['budget'] = df_budgets['budget'].str.replace('$' ,'')\n",
    "# df_budgets['budget'] = df_budgets['budget'].astype(float)\n",
    "\n",
    "df_budgets['budget'] = df_budgets['budget'].apply(lambda x: x.replace('$', '').replace(',',''))\n",
    "df_budgets['budget'].astype(float)\n",
    "\n",
    "df_budgets['domestic_gross'] = df_budgets['domestic_gross'].apply(lambda x: x.replace('$', '').replace(',',''))\n",
    "df_budgets['domestic_gross'].astype(float)\n",
    "\n",
    "# df_budgets['wwgross'] = df_budgets['wwgross'].str.replace('$','')\n",
    "# df_budgets['wwgross'] = df_budgets['wwgross'].str.replace(',','')\n",
    "# df_budgets['wwgross'] = df_budgets['wwgross'].astype(float)\n",
    "\n",
    "df_budgets['wwgross'] = df_budgets['wwgross'].apply(lambda x:  x.replace('$','').replace(',',''))\n",
    "df_budgets['wwgross'].astype(float)\n",
    "\n",
    "\n",
    "#df_budgets = df_budgets.drop(columns = {'id', 'domestic_gross'})\n",
    "#df_budgets.head()\n",
    "df_budgets.sample(10)\n",
    "#print(type(df_budgets['wwgross']), type(df_budgets['budget']))\n",
    "#type(df_budgets.wwgross)"
   ]
  },
  {
   "cell_type": "code",
   "execution_count": null,
   "metadata": {},
   "outputs": [],
   "source": [
    "df_budgets = df_budgets.sort_values(by = 'release_date', ascending = False)\n",
    "\n",
    "\n",
    "#type(df_budgets['release_date'])"
   ]
  },
  {
   "cell_type": "code",
   "execution_count": null,
   "metadata": {},
   "outputs": [],
   "source": [
    "import datetime as dt\n",
    "\n",
    "\n",
    "# df['Date'] = pd.to_datetime(df['Date'])\n",
    "# include = df[df['Date'].dt.year == year]\n",
    "\n",
    "df_budgets['release_date'] = pd.to_datetime(df_budgets['release_date'])\n",
    "\n",
    "df_budgets = df_budgets[df_budgets['release_date'].dt.year >= 2010]"
   ]
  },
  {
   "cell_type": "code",
   "execution_count": null,
   "metadata": {},
   "outputs": [],
   "source": [
    "\n",
    "df_budgets"
   ]
  },
  {
   "cell_type": "code",
   "execution_count": null,
   "metadata": {},
   "outputs": [],
   "source": [
    "df_budgets.shape"
   ]
  },
  {
   "cell_type": "code",
   "execution_count": null,
   "metadata": {},
   "outputs": [],
   "source": [
    "df_budgets.tail()"
   ]
  },
  {
   "cell_type": "code",
   "execution_count": null,
   "metadata": {},
   "outputs": [],
   "source": [
    "df_budgets['profit_index'] = df_budgets['wwgross']/df_budgets['budget']"
   ]
  },
  {
   "cell_type": "code",
   "execution_count": null,
   "metadata": {},
   "outputs": [],
   "source": [
    "df_budgets = df_budgets.rename(columns = {'movie':'title'})"
   ]
  },
  {
   "cell_type": "code",
   "execution_count": null,
   "metadata": {},
   "outputs": [],
   "source": [
    "df_budgets = df_budgets.set_index('title')"
   ]
  },
  {
   "cell_type": "code",
   "execution_count": null,
   "metadata": {},
   "outputs": [],
   "source": [
    "df_budgets['release_date'] = pd.to_datetime(df_budgets['release_date'])"
   ]
  },
  {
   "cell_type": "code",
   "execution_count": null,
   "metadata": {},
   "outputs": [],
   "source": [
    "df_budgets.head()"
   ]
  },
  {
   "cell_type": "code",
   "execution_count": null,
   "metadata": {},
   "outputs": [],
   "source": [
    "\n",
    "df_budgets.head()"
   ]
  },
  {
   "cell_type": "code",
   "execution_count": null,
   "metadata": {},
   "outputs": [],
   "source": [
    "df_budgets.shape"
   ]
  },
  {
   "cell_type": "code",
   "execution_count": null,
   "metadata": {},
   "outputs": [],
   "source": [
    "df_movies.head()"
   ]
  },
  {
   "cell_type": "code",
   "execution_count": null,
   "metadata": {},
   "outputs": [],
   "source": [
    "df_movies.shape"
   ]
  },
  {
   "cell_type": "code",
   "execution_count": null,
   "metadata": {},
   "outputs": [],
   "source": [
    "df_movies.shape"
   ]
  },
  {
   "cell_type": "code",
   "execution_count": null,
   "metadata": {},
   "outputs": [],
   "source": [
    "movies_pkle = pd.merge(df_budgets, df_movies, how = 'inner', on ='title')\n",
    "movies_pkle.shape"
   ]
  },
  {
   "cell_type": "code",
   "execution_count": null,
   "metadata": {},
   "outputs": [],
   "source": [
    "movies_pkle.head(10)"
   ]
  },
  {
   "cell_type": "code",
   "execution_count": null,
   "metadata": {},
   "outputs": [],
   "source": [
    "movies_pkle = movies_pkle.drop(columns = {'id', 'domestic_gross'})"
   ]
  },
  {
   "cell_type": "code",
   "execution_count": null,
   "metadata": {},
   "outputs": [],
   "source": [
    "movies_pkle.head()"
   ]
  },
  {
   "cell_type": "code",
   "execution_count": null,
   "metadata": {},
   "outputs": [],
   "source": []
  },
  {
   "cell_type": "code",
   "execution_count": null,
   "metadata": {},
   "outputs": [],
   "source": []
  },
  {
   "cell_type": "code",
   "execution_count": null,
   "metadata": {},
   "outputs": [],
   "source": []
  },
  {
   "cell_type": "code",
   "execution_count": null,
   "metadata": {},
   "outputs": [],
   "source": []
  },
  {
   "cell_type": "code",
   "execution_count": null,
   "metadata": {},
   "outputs": [],
   "source": [
    "\n",
    "# df_budgets = df_budgets.rename(columns = {'production_budget' : 'budget'})\n",
    "\n",
    "# df_budgets = df_budgets.set_index('')\n",
    "#df_budgets = df_budgets.set_index('')\n",
    "\n",
    "# df_budgets.columns\n",
    "\n",
    "# def budget_to_gross(budget, gross):\n",
    "#     budget_by_gross = budget/gross\n",
    "#     return budget_by_gross\n",
    "\n",
    "# type(df_budgets['wwgross'].iloc[0])\n",
    "\n",
    "# df_budgets['production_budget'].head()\n",
    "# df_budgets['production_budget'].str.replace(',', '').str.replace('$', '')\n",
    "# df_budgets['production_budget'].astype(float)\n",
    "\n",
    "# def greater_than_300(budget):\n",
    "#     T_or_F = budget > 300000000\n",
    "#     return T_or_F\n",
    "\n",
    "# # df_budgets.head()\n",
    "#df_budgets['greater_than_300'] = df_budgets['budget'].apply(greater_than_300)\n",
    "\n",
    "# df_budgets.head()\n",
    "\n",
    "# #df_budgets['production_budget'].value_counts(normalize = False )\n",
    "\n",
    "\n",
    "df_budgets['revenue_to_cost'] = df_budgets['wwgross']/df_budgets['budget']\n",
    "\n",
    "# # print(df_budgets['production_budget'].dtype)\n",
    "# # df_budgets(['production_budget']) = df_budgets['production_budget'].obj.replace(',','')\n",
    "# # #  do same but attach it to the dataframe\n",
    "# # df['c'] = df.apply(lambda row: row.a + row.b, axis=1)\n",
    "#df_budgets.head()\n",
    "# #df_budgets.info()\n",
    "df_budgets.head()"
   ]
  },
  {
   "cell_type": "code",
   "execution_count": null,
   "metadata": {},
   "outputs": [],
   "source": []
  }
 ],
 "metadata": {
  "kernelspec": {
   "display_name": "learn-env",
   "language": "python",
   "name": "learn-env"
  },
  "language_info": {
   "codemirror_mode": {
    "name": "ipython",
    "version": 3
   },
   "file_extension": ".py",
   "mimetype": "text/x-python",
   "name": "python",
   "nbconvert_exporter": "python",
   "pygments_lexer": "ipython3",
   "version": "3.6.9"
  }
 },
 "nbformat": 4,
 "nbformat_minor": 4
}
